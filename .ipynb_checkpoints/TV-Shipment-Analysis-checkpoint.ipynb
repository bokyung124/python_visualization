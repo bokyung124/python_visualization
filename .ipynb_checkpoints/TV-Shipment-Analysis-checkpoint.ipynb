{
 "cells": [
  {
   "cell_type": "markdown",
   "metadata": {
    "id": "gIAH8AcCROoO"
   },
   "source": [
    "## [EI-DA 전자산업 데이터분석]  TV Shipment Analysis"
   ]
  },
  {
   "cell_type": "markdown",
   "metadata": {
    "id": "H5bJl6jfROoR"
   },
   "source": [
    "**<div style=\"text-align: right\">Update date: June 1, 2023.</div>**\n",
    "**<div style=\"text-align: right\">Copyright(c) 2018-2023 Youngmin Park All rights reserved.</div>**"
   ]
  },
  {
   "cell_type": "markdown",
   "metadata": {
    "id": "26SfoFYGROoS"
   },
   "source": [
    "**\"CONFIDENTIAL.TV_shipment_20210716.csv\" : 지역별 TV 선적 실적에 대한 데이터**"
   ]
  },
  {
   "cell_type": "markdown",
   "metadata": {
    "id": "z949uw7rROoT"
   },
   "source": [
    "## 라이브러리 임포트"
   ]
  },
  {
   "cell_type": "code",
   "execution_count": 1,
   "metadata": {
    "executionInfo": {
     "elapsed": 951,
     "status": "ok",
     "timestamp": 1685600208608,
     "user": {
      "displayName": "박영민",
      "userId": "10806382730724378387"
     },
     "user_tz": -540
    },
    "id": "K9n2xKqeROoT"
   },
   "outputs": [],
   "source": [
    "%matplotlib inline\n",
    "import numpy as np\n",
    "import pandas as pd\n",
    "import matplotlib.pyplot as plt\n",
    "import seaborn as sns\n",
    "sns.set()\n",
    "\n",
    "plt.rcParams['font.family'] = ['NanumBarunGothic', 'Malgun Gothic', 'AppleGothic']  # 한글 출력을 위한 글꼴 설정\n",
    "plt.rcParams['axes.unicode_minus'] = False    # 문자 - (마이너스) 정상 출력을 위한 코드"
   ]
  },
  {
   "cell_type": "markdown",
   "metadata": {
    "id": "r2TK6YS8ROoU"
   },
   "source": [
    "## 데이터 불러오기 "
   ]
  },
  {
   "cell_type": "code",
   "execution_count": 3,
   "metadata": {
    "colab": {
     "base_uri": "https://localhost:8080/"
    },
    "executionInfo": {
     "elapsed": 29913,
     "status": "ok",
     "timestamp": 1685600274758,
     "user": {
      "displayName": "박영민",
      "userId": "10806382730724378387"
     },
     "user_tz": -540
    },
    "id": "BuO8nUmNmkWN",
    "outputId": "ad61bb0b-e8cd-48d3-edd8-603d97743ec8"
   },
   "outputs": [],
   "source": [
    "# from google.colab import drive\n",
    "# drive.mount('/content/drive')"
   ]
  },
  {
   "cell_type": "code",
   "execution_count": 5,
   "metadata": {
    "executionInfo": {
     "elapsed": 776,
     "status": "ok",
     "timestamp": 1685600318942,
     "user": {
      "displayName": "박영민",
      "userId": "10806382730724378387"
     },
     "user_tz": -540
    },
    "id": "G_CIwfAxROoV"
   },
   "outputs": [
    {
     "ename": "FileNotFoundError",
     "evalue": "[Errno 2] No such file or directory: '/data/CONFIDENTIAL.TV_shipment_20210716.csv'",
     "output_type": "error",
     "traceback": [
      "\u001b[0;31m---------------------------------------------------------------------------\u001b[0m",
      "\u001b[0;31mFileNotFoundError\u001b[0m                         Traceback (most recent call last)",
      "Cell \u001b[0;32mIn[5], line 1\u001b[0m\n\u001b[0;32m----> 1\u001b[0m rawdata_df \u001b[38;5;241m=\u001b[39m \u001b[43mpd\u001b[49m\u001b[38;5;241;43m.\u001b[39;49m\u001b[43mread_csv\u001b[49m\u001b[43m(\u001b[49m\u001b[38;5;124;43m'\u001b[39;49m\u001b[38;5;124;43m/data/CONFIDENTIAL.TV_shipment_20210716.csv\u001b[39;49m\u001b[38;5;124;43m'\u001b[39;49m\u001b[43m,\u001b[49m\u001b[43m \u001b[49m\u001b[43mindex_col\u001b[49m\u001b[38;5;241;43m=\u001b[39;49m\u001b[38;5;241;43m0\u001b[39;49m\u001b[43m)\u001b[49m\n",
      "File \u001b[0;32m/opt/homebrew/Caskroom/miniforge/base/envs/python3.9/lib/python3.9/site-packages/pandas/io/parsers/readers.py:912\u001b[0m, in \u001b[0;36mread_csv\u001b[0;34m(filepath_or_buffer, sep, delimiter, header, names, index_col, usecols, dtype, engine, converters, true_values, false_values, skipinitialspace, skiprows, skipfooter, nrows, na_values, keep_default_na, na_filter, verbose, skip_blank_lines, parse_dates, infer_datetime_format, keep_date_col, date_parser, date_format, dayfirst, cache_dates, iterator, chunksize, compression, thousands, decimal, lineterminator, quotechar, quoting, doublequote, escapechar, comment, encoding, encoding_errors, dialect, on_bad_lines, delim_whitespace, low_memory, memory_map, float_precision, storage_options, dtype_backend)\u001b[0m\n\u001b[1;32m    899\u001b[0m kwds_defaults \u001b[38;5;241m=\u001b[39m _refine_defaults_read(\n\u001b[1;32m    900\u001b[0m     dialect,\n\u001b[1;32m    901\u001b[0m     delimiter,\n\u001b[0;32m   (...)\u001b[0m\n\u001b[1;32m    908\u001b[0m     dtype_backend\u001b[38;5;241m=\u001b[39mdtype_backend,\n\u001b[1;32m    909\u001b[0m )\n\u001b[1;32m    910\u001b[0m kwds\u001b[38;5;241m.\u001b[39mupdate(kwds_defaults)\n\u001b[0;32m--> 912\u001b[0m \u001b[38;5;28;01mreturn\u001b[39;00m \u001b[43m_read\u001b[49m\u001b[43m(\u001b[49m\u001b[43mfilepath_or_buffer\u001b[49m\u001b[43m,\u001b[49m\u001b[43m \u001b[49m\u001b[43mkwds\u001b[49m\u001b[43m)\u001b[49m\n",
      "File \u001b[0;32m/opt/homebrew/Caskroom/miniforge/base/envs/python3.9/lib/python3.9/site-packages/pandas/io/parsers/readers.py:577\u001b[0m, in \u001b[0;36m_read\u001b[0;34m(filepath_or_buffer, kwds)\u001b[0m\n\u001b[1;32m    574\u001b[0m _validate_names(kwds\u001b[38;5;241m.\u001b[39mget(\u001b[38;5;124m\"\u001b[39m\u001b[38;5;124mnames\u001b[39m\u001b[38;5;124m\"\u001b[39m, \u001b[38;5;28;01mNone\u001b[39;00m))\n\u001b[1;32m    576\u001b[0m \u001b[38;5;66;03m# Create the parser.\u001b[39;00m\n\u001b[0;32m--> 577\u001b[0m parser \u001b[38;5;241m=\u001b[39m \u001b[43mTextFileReader\u001b[49m\u001b[43m(\u001b[49m\u001b[43mfilepath_or_buffer\u001b[49m\u001b[43m,\u001b[49m\u001b[43m \u001b[49m\u001b[38;5;241;43m*\u001b[39;49m\u001b[38;5;241;43m*\u001b[39;49m\u001b[43mkwds\u001b[49m\u001b[43m)\u001b[49m\n\u001b[1;32m    579\u001b[0m \u001b[38;5;28;01mif\u001b[39;00m chunksize \u001b[38;5;129;01mor\u001b[39;00m iterator:\n\u001b[1;32m    580\u001b[0m     \u001b[38;5;28;01mreturn\u001b[39;00m parser\n",
      "File \u001b[0;32m/opt/homebrew/Caskroom/miniforge/base/envs/python3.9/lib/python3.9/site-packages/pandas/io/parsers/readers.py:1407\u001b[0m, in \u001b[0;36mTextFileReader.__init__\u001b[0;34m(self, f, engine, **kwds)\u001b[0m\n\u001b[1;32m   1404\u001b[0m     \u001b[38;5;28mself\u001b[39m\u001b[38;5;241m.\u001b[39moptions[\u001b[38;5;124m\"\u001b[39m\u001b[38;5;124mhas_index_names\u001b[39m\u001b[38;5;124m\"\u001b[39m] \u001b[38;5;241m=\u001b[39m kwds[\u001b[38;5;124m\"\u001b[39m\u001b[38;5;124mhas_index_names\u001b[39m\u001b[38;5;124m\"\u001b[39m]\n\u001b[1;32m   1406\u001b[0m \u001b[38;5;28mself\u001b[39m\u001b[38;5;241m.\u001b[39mhandles: IOHandles \u001b[38;5;241m|\u001b[39m \u001b[38;5;28;01mNone\u001b[39;00m \u001b[38;5;241m=\u001b[39m \u001b[38;5;28;01mNone\u001b[39;00m\n\u001b[0;32m-> 1407\u001b[0m \u001b[38;5;28mself\u001b[39m\u001b[38;5;241m.\u001b[39m_engine \u001b[38;5;241m=\u001b[39m \u001b[38;5;28;43mself\u001b[39;49m\u001b[38;5;241;43m.\u001b[39;49m\u001b[43m_make_engine\u001b[49m\u001b[43m(\u001b[49m\u001b[43mf\u001b[49m\u001b[43m,\u001b[49m\u001b[43m \u001b[49m\u001b[38;5;28;43mself\u001b[39;49m\u001b[38;5;241;43m.\u001b[39;49m\u001b[43mengine\u001b[49m\u001b[43m)\u001b[49m\n",
      "File \u001b[0;32m/opt/homebrew/Caskroom/miniforge/base/envs/python3.9/lib/python3.9/site-packages/pandas/io/parsers/readers.py:1661\u001b[0m, in \u001b[0;36mTextFileReader._make_engine\u001b[0;34m(self, f, engine)\u001b[0m\n\u001b[1;32m   1659\u001b[0m     \u001b[38;5;28;01mif\u001b[39;00m \u001b[38;5;124m\"\u001b[39m\u001b[38;5;124mb\u001b[39m\u001b[38;5;124m\"\u001b[39m \u001b[38;5;129;01mnot\u001b[39;00m \u001b[38;5;129;01min\u001b[39;00m mode:\n\u001b[1;32m   1660\u001b[0m         mode \u001b[38;5;241m+\u001b[39m\u001b[38;5;241m=\u001b[39m \u001b[38;5;124m\"\u001b[39m\u001b[38;5;124mb\u001b[39m\u001b[38;5;124m\"\u001b[39m\n\u001b[0;32m-> 1661\u001b[0m \u001b[38;5;28mself\u001b[39m\u001b[38;5;241m.\u001b[39mhandles \u001b[38;5;241m=\u001b[39m \u001b[43mget_handle\u001b[49m\u001b[43m(\u001b[49m\n\u001b[1;32m   1662\u001b[0m \u001b[43m    \u001b[49m\u001b[43mf\u001b[49m\u001b[43m,\u001b[49m\n\u001b[1;32m   1663\u001b[0m \u001b[43m    \u001b[49m\u001b[43mmode\u001b[49m\u001b[43m,\u001b[49m\n\u001b[1;32m   1664\u001b[0m \u001b[43m    \u001b[49m\u001b[43mencoding\u001b[49m\u001b[38;5;241;43m=\u001b[39;49m\u001b[38;5;28;43mself\u001b[39;49m\u001b[38;5;241;43m.\u001b[39;49m\u001b[43moptions\u001b[49m\u001b[38;5;241;43m.\u001b[39;49m\u001b[43mget\u001b[49m\u001b[43m(\u001b[49m\u001b[38;5;124;43m\"\u001b[39;49m\u001b[38;5;124;43mencoding\u001b[39;49m\u001b[38;5;124;43m\"\u001b[39;49m\u001b[43m,\u001b[49m\u001b[43m \u001b[49m\u001b[38;5;28;43;01mNone\u001b[39;49;00m\u001b[43m)\u001b[49m\u001b[43m,\u001b[49m\n\u001b[1;32m   1665\u001b[0m \u001b[43m    \u001b[49m\u001b[43mcompression\u001b[49m\u001b[38;5;241;43m=\u001b[39;49m\u001b[38;5;28;43mself\u001b[39;49m\u001b[38;5;241;43m.\u001b[39;49m\u001b[43moptions\u001b[49m\u001b[38;5;241;43m.\u001b[39;49m\u001b[43mget\u001b[49m\u001b[43m(\u001b[49m\u001b[38;5;124;43m\"\u001b[39;49m\u001b[38;5;124;43mcompression\u001b[39;49m\u001b[38;5;124;43m\"\u001b[39;49m\u001b[43m,\u001b[49m\u001b[43m \u001b[49m\u001b[38;5;28;43;01mNone\u001b[39;49;00m\u001b[43m)\u001b[49m\u001b[43m,\u001b[49m\n\u001b[1;32m   1666\u001b[0m \u001b[43m    \u001b[49m\u001b[43mmemory_map\u001b[49m\u001b[38;5;241;43m=\u001b[39;49m\u001b[38;5;28;43mself\u001b[39;49m\u001b[38;5;241;43m.\u001b[39;49m\u001b[43moptions\u001b[49m\u001b[38;5;241;43m.\u001b[39;49m\u001b[43mget\u001b[49m\u001b[43m(\u001b[49m\u001b[38;5;124;43m\"\u001b[39;49m\u001b[38;5;124;43mmemory_map\u001b[39;49m\u001b[38;5;124;43m\"\u001b[39;49m\u001b[43m,\u001b[49m\u001b[43m \u001b[49m\u001b[38;5;28;43;01mFalse\u001b[39;49;00m\u001b[43m)\u001b[49m\u001b[43m,\u001b[49m\n\u001b[1;32m   1667\u001b[0m \u001b[43m    \u001b[49m\u001b[43mis_text\u001b[49m\u001b[38;5;241;43m=\u001b[39;49m\u001b[43mis_text\u001b[49m\u001b[43m,\u001b[49m\n\u001b[1;32m   1668\u001b[0m \u001b[43m    \u001b[49m\u001b[43merrors\u001b[49m\u001b[38;5;241;43m=\u001b[39;49m\u001b[38;5;28;43mself\u001b[39;49m\u001b[38;5;241;43m.\u001b[39;49m\u001b[43moptions\u001b[49m\u001b[38;5;241;43m.\u001b[39;49m\u001b[43mget\u001b[49m\u001b[43m(\u001b[49m\u001b[38;5;124;43m\"\u001b[39;49m\u001b[38;5;124;43mencoding_errors\u001b[39;49m\u001b[38;5;124;43m\"\u001b[39;49m\u001b[43m,\u001b[49m\u001b[43m \u001b[49m\u001b[38;5;124;43m\"\u001b[39;49m\u001b[38;5;124;43mstrict\u001b[39;49m\u001b[38;5;124;43m\"\u001b[39;49m\u001b[43m)\u001b[49m\u001b[43m,\u001b[49m\n\u001b[1;32m   1669\u001b[0m \u001b[43m    \u001b[49m\u001b[43mstorage_options\u001b[49m\u001b[38;5;241;43m=\u001b[39;49m\u001b[38;5;28;43mself\u001b[39;49m\u001b[38;5;241;43m.\u001b[39;49m\u001b[43moptions\u001b[49m\u001b[38;5;241;43m.\u001b[39;49m\u001b[43mget\u001b[49m\u001b[43m(\u001b[49m\u001b[38;5;124;43m\"\u001b[39;49m\u001b[38;5;124;43mstorage_options\u001b[39;49m\u001b[38;5;124;43m\"\u001b[39;49m\u001b[43m,\u001b[49m\u001b[43m \u001b[49m\u001b[38;5;28;43;01mNone\u001b[39;49;00m\u001b[43m)\u001b[49m\u001b[43m,\u001b[49m\n\u001b[1;32m   1670\u001b[0m \u001b[43m\u001b[49m\u001b[43m)\u001b[49m\n\u001b[1;32m   1671\u001b[0m \u001b[38;5;28;01massert\u001b[39;00m \u001b[38;5;28mself\u001b[39m\u001b[38;5;241m.\u001b[39mhandles \u001b[38;5;129;01mis\u001b[39;00m \u001b[38;5;129;01mnot\u001b[39;00m \u001b[38;5;28;01mNone\u001b[39;00m\n\u001b[1;32m   1672\u001b[0m f \u001b[38;5;241m=\u001b[39m \u001b[38;5;28mself\u001b[39m\u001b[38;5;241m.\u001b[39mhandles\u001b[38;5;241m.\u001b[39mhandle\n",
      "File \u001b[0;32m/opt/homebrew/Caskroom/miniforge/base/envs/python3.9/lib/python3.9/site-packages/pandas/io/common.py:859\u001b[0m, in \u001b[0;36mget_handle\u001b[0;34m(path_or_buf, mode, encoding, compression, memory_map, is_text, errors, storage_options)\u001b[0m\n\u001b[1;32m    854\u001b[0m \u001b[38;5;28;01melif\u001b[39;00m \u001b[38;5;28misinstance\u001b[39m(handle, \u001b[38;5;28mstr\u001b[39m):\n\u001b[1;32m    855\u001b[0m     \u001b[38;5;66;03m# Check whether the filename is to be opened in binary mode.\u001b[39;00m\n\u001b[1;32m    856\u001b[0m     \u001b[38;5;66;03m# Binary mode does not support 'encoding' and 'newline'.\u001b[39;00m\n\u001b[1;32m    857\u001b[0m     \u001b[38;5;28;01mif\u001b[39;00m ioargs\u001b[38;5;241m.\u001b[39mencoding \u001b[38;5;129;01mand\u001b[39;00m \u001b[38;5;124m\"\u001b[39m\u001b[38;5;124mb\u001b[39m\u001b[38;5;124m\"\u001b[39m \u001b[38;5;129;01mnot\u001b[39;00m \u001b[38;5;129;01min\u001b[39;00m ioargs\u001b[38;5;241m.\u001b[39mmode:\n\u001b[1;32m    858\u001b[0m         \u001b[38;5;66;03m# Encoding\u001b[39;00m\n\u001b[0;32m--> 859\u001b[0m         handle \u001b[38;5;241m=\u001b[39m \u001b[38;5;28;43mopen\u001b[39;49m\u001b[43m(\u001b[49m\n\u001b[1;32m    860\u001b[0m \u001b[43m            \u001b[49m\u001b[43mhandle\u001b[49m\u001b[43m,\u001b[49m\n\u001b[1;32m    861\u001b[0m \u001b[43m            \u001b[49m\u001b[43mioargs\u001b[49m\u001b[38;5;241;43m.\u001b[39;49m\u001b[43mmode\u001b[49m\u001b[43m,\u001b[49m\n\u001b[1;32m    862\u001b[0m \u001b[43m            \u001b[49m\u001b[43mencoding\u001b[49m\u001b[38;5;241;43m=\u001b[39;49m\u001b[43mioargs\u001b[49m\u001b[38;5;241;43m.\u001b[39;49m\u001b[43mencoding\u001b[49m\u001b[43m,\u001b[49m\n\u001b[1;32m    863\u001b[0m \u001b[43m            \u001b[49m\u001b[43merrors\u001b[49m\u001b[38;5;241;43m=\u001b[39;49m\u001b[43merrors\u001b[49m\u001b[43m,\u001b[49m\n\u001b[1;32m    864\u001b[0m \u001b[43m            \u001b[49m\u001b[43mnewline\u001b[49m\u001b[38;5;241;43m=\u001b[39;49m\u001b[38;5;124;43m\"\u001b[39;49m\u001b[38;5;124;43m\"\u001b[39;49m\u001b[43m,\u001b[49m\n\u001b[1;32m    865\u001b[0m \u001b[43m        \u001b[49m\u001b[43m)\u001b[49m\n\u001b[1;32m    866\u001b[0m     \u001b[38;5;28;01melse\u001b[39;00m:\n\u001b[1;32m    867\u001b[0m         \u001b[38;5;66;03m# Binary mode\u001b[39;00m\n\u001b[1;32m    868\u001b[0m         handle \u001b[38;5;241m=\u001b[39m \u001b[38;5;28mopen\u001b[39m(handle, ioargs\u001b[38;5;241m.\u001b[39mmode)\n",
      "\u001b[0;31mFileNotFoundError\u001b[0m: [Errno 2] No such file or directory: '/data/CONFIDENTIAL.TV_shipment_20210716.csv'"
     ]
    }
   ],
   "source": [
    "rawdata_df = pd.read_csv('/data/CONFIDENTIAL.TV_shipment_20210716.csv', index_col=0)"
   ]
  },
  {
   "cell_type": "code",
   "execution_count": null,
   "metadata": {
    "colab": {
     "base_uri": "https://localhost:8080/",
     "height": 363
    },
    "executionInfo": {
     "elapsed": 3,
     "status": "ok",
     "timestamp": 1685600323522,
     "user": {
      "displayName": "박영민",
      "userId": "10806382730724378387"
     },
     "user_tz": -540
    },
    "id": "dWs1Q7RfROoV",
    "outputId": "77e656fb-3f23-43db-f588-da240c00fce6"
   },
   "outputs": [],
   "source": [
    "rawdata_df"
   ]
  },
  {
   "cell_type": "markdown",
   "metadata": {
    "id": "RrbnUiq_ROoW"
   },
   "source": [
    "## EDA 탐색적 데이터 분석 수행하기"
   ]
  },
  {
   "cell_type": "code",
   "execution_count": null,
   "metadata": {
    "colab": {
     "base_uri": "https://localhost:8080/"
    },
    "executionInfo": {
     "elapsed": 476,
     "status": "ok",
     "timestamp": 1685600337130,
     "user": {
      "displayName": "박영민",
      "userId": "10806382730724378387"
     },
     "user_tz": -540
    },
    "id": "NYxKzK7LROoW",
    "outputId": "a1d3d306-5177-431d-8bc7-41baa73bda8a"
   },
   "outputs": [],
   "source": [
    "# 데이터의 형태\n",
    "rawdata_df.shape"
   ]
  },
  {
   "cell_type": "code",
   "execution_count": null,
   "metadata": {
    "colab": {
     "base_uri": "https://localhost:8080/"
    },
    "executionInfo": {
     "elapsed": 673,
     "status": "ok",
     "timestamp": 1685600342180,
     "user": {
      "displayName": "박영민",
      "userId": "10806382730724378387"
     },
     "user_tz": -540
    },
    "id": "T8YQWi0mROoW",
    "outputId": "7a5916e5-92ad-4606-eba0-39b9a726e3cc"
   },
   "outputs": [],
   "source": [
    "# 데이터 컬럼 정보\n",
    "rawdata_df.info()"
   ]
  },
  {
   "cell_type": "code",
   "execution_count": null,
   "metadata": {
    "colab": {
     "base_uri": "https://localhost:8080/",
     "height": 300
    },
    "executionInfo": {
     "elapsed": 553,
     "status": "ok",
     "timestamp": 1685600353102,
     "user": {
      "displayName": "박영민",
      "userId": "10806382730724378387"
     },
     "user_tz": -540
    },
    "id": "tqzvCYyiROoW",
    "outputId": "2d252d63-c5f6-492f-a41c-6ab58e741c80"
   },
   "outputs": [],
   "source": [
    "# 데이터 통계 정보\n",
    "rawdata_df.describe()"
   ]
  },
  {
   "cell_type": "code",
   "execution_count": null,
   "metadata": {
    "id": "jNiJrLEAROoW"
   },
   "outputs": [],
   "source": []
  },
  {
   "cell_type": "markdown",
   "metadata": {
    "id": "mI9lWeLJROoX"
   },
   "source": [
    "## 데이터 시각화 해보기"
   ]
  },
  {
   "cell_type": "markdown",
   "metadata": {
    "id": "qAay-gwCROoX"
   },
   "source": [
    "우선 Pie Chart를 빠르게 하나 그려봅니다"
   ]
  },
  {
   "cell_type": "code",
   "execution_count": null,
   "metadata": {
    "colab": {
     "base_uri": "https://localhost:8080/",
     "height": 1000
    },
    "executionInfo": {
     "elapsed": 1784,
     "status": "ok",
     "timestamp": 1685600370305,
     "user": {
      "displayName": "박영민",
      "userId": "10806382730724378387"
     },
     "user_tz": -540
    },
    "id": "FIDn-YSlROoX",
    "outputId": "c4ffcf6e-c7b1-4d23-cf09-8f90df654ee2"
   },
   "outputs": [],
   "source": [
    "rawdata_df['2016'].plot(figsize=(12,6), kind='pie');"
   ]
  },
  {
   "cell_type": "code",
   "execution_count": null,
   "metadata": {
    "id": "MeckIP5mROoX"
   },
   "outputs": [],
   "source": []
  },
  {
   "cell_type": "markdown",
   "metadata": {
    "id": "UwOkbbVfROoX"
   },
   "source": [
    "  "
   ]
  },
  {
   "cell_type": "markdown",
   "metadata": {
    "id": "TN-4BTxXROoX"
   },
   "source": [
    "Total이 포함되어 있어, 그래프가 왜곡됩니다.  \n",
    "Total을 제거한 후, 그래프를 그려야 의도대로 점유율을 볼 수 있습니다."
   ]
  },
  {
   "cell_type": "code",
   "execution_count": null,
   "metadata": {
    "colab": {
     "base_uri": "https://localhost:8080/",
     "height": 300
    },
    "executionInfo": {
     "elapsed": 793,
     "status": "ok",
     "timestamp": 1685600395421,
     "user": {
      "displayName": "박영민",
      "userId": "10806382730724378387"
     },
     "user_tz": -540
    },
    "id": "R6vwr3KzROoX",
    "outputId": "8bd4489e-4a17-4d45-b842-6229ff43c436",
    "scrolled": true
   },
   "outputs": [],
   "source": [
    "# .drop 함수를 이용하여 index 혹은 column을 제거할 수 있습니다.\n",
    "# 제거할 대상으로 인덱스를 하나 넣어주어도 되고, 리스트로 여러개를 넣을 수 있습니다.\n",
    "rawdata_df.drop(index=['Japan', 'Total'])"
   ]
  },
  {
   "cell_type": "code",
   "execution_count": null,
   "metadata": {
    "id": "Y3VssJc5ROoY"
   },
   "outputs": [],
   "source": []
  },
  {
   "cell_type": "code",
   "execution_count": null,
   "metadata": {
    "colab": {
     "base_uri": "https://localhost:8080/",
     "height": 331
    },
    "executionInfo": {
     "elapsed": 490,
     "status": "ok",
     "timestamp": 1685600408716,
     "user": {
      "displayName": "박영민",
      "userId": "10806382730724378387"
     },
     "user_tz": -540
    },
    "id": "k-9RWe38ROoY",
    "outputId": "687bcaae-b3bb-4cd5-9d27-c5538f1aa57c"
   },
   "outputs": [],
   "source": [
    "# Total 행을 제거한 dataframe을 새로 할당\n",
    "shipment_graph_df = rawdata_df.drop(index='Total')\n",
    "shipment_graph_df"
   ]
  },
  {
   "cell_type": "code",
   "execution_count": null,
   "metadata": {
    "id": "SF2OUOthROoY"
   },
   "outputs": [],
   "source": []
  },
  {
   "cell_type": "markdown",
   "metadata": {
    "id": "LHgmVDlGROoY"
   },
   "source": [
    "  "
   ]
  },
  {
   "cell_type": "markdown",
   "metadata": {
    "id": "O6ehpZgtROoY"
   },
   "source": [
    "Total이 제거된 graph df로 차트를 다시 그려봅니다"
   ]
  },
  {
   "cell_type": "code",
   "execution_count": null,
   "metadata": {
    "colab": {
     "base_uri": "https://localhost:8080/",
     "height": 1000
    },
    "executionInfo": {
     "elapsed": 1829,
     "status": "ok",
     "timestamp": 1685600420575,
     "user": {
      "displayName": "박영민",
      "userId": "10806382730724378387"
     },
     "user_tz": -540
    },
    "id": "lcsZV7ZVROoY",
    "outputId": "f89bd1a5-afd4-4f51-b22f-0f7d3e4f3068"
   },
   "outputs": [],
   "source": [
    "shipment_graph_df['2016'].plot(figsize=(12,6), kind='pie');"
   ]
  },
  {
   "cell_type": "code",
   "execution_count": null,
   "metadata": {
    "id": "jDKM3OjgROoY"
   },
   "outputs": [],
   "source": []
  },
  {
   "cell_type": "code",
   "execution_count": null,
   "metadata": {
    "colab": {
     "base_uri": "https://localhost:8080/",
     "height": 1000
    },
    "executionInfo": {
     "elapsed": 1090,
     "status": "ok",
     "timestamp": 1685600437850,
     "user": {
      "displayName": "박영민",
      "userId": "10806382730724378387"
     },
     "user_tz": -540
    },
    "id": "ouK5BAD8ROoY",
    "outputId": "b2ee8274-06bf-4bdb-9dd2-efe006528f11"
   },
   "outputs": [],
   "source": [
    "# 정렬이 되어있으면 좋겠습니다. sort_values()를 사용합니다.\n",
    "shipment_graph_df['2016'].sort_values(ascending=False).plot(figsize=(12,6), kind='pie', autopct='%.2f %%');\n",
    "plt.title('2016 TV Shipment')\n",
    "plt.show()"
   ]
  },
  {
   "cell_type": "code",
   "execution_count": null,
   "metadata": {
    "id": "5GH6TdcPROoZ"
   },
   "outputs": [],
   "source": []
  },
  {
   "cell_type": "markdown",
   "metadata": {
    "id": "N0cpM-XyROoZ"
   },
   "source": [
    "  "
   ]
  },
  {
   "cell_type": "markdown",
   "metadata": {
    "id": "ZJcL6VRbROoZ"
   },
   "source": [
    "Pie 그래프를 그리는 부분을 함수화 해봅니다"
   ]
  },
  {
   "cell_type": "code",
   "execution_count": null,
   "metadata": {
    "executionInfo": {
     "elapsed": 726,
     "status": "ok",
     "timestamp": 1685600485029,
     "user": {
      "displayName": "박영민",
      "userId": "10806382730724378387"
     },
     "user_tz": -540
    },
    "id": "JQMSVPV1ROoZ"
   },
   "outputs": [],
   "source": [
    "def draw_yearly_pie_chart(shipment_graph_df, column_name='2016'):\n",
    "    shipment_graph_df[column_name].sort_values(ascending=False).plot(figsize=(12,6), kind='pie', autopct='%.2f %%');\n",
    "    plt.title(f'{column_name} TV Shipment')\n",
    "    plt.show()"
   ]
  },
  {
   "cell_type": "markdown",
   "metadata": {
    "id": "xs2acnIOROoZ"
   },
   "source": [
    "  "
   ]
  },
  {
   "cell_type": "markdown",
   "metadata": {
    "id": "vYdN1oDHROoZ"
   },
   "source": [
    "만든 함수를 이용하여 그래프를 쉽게 그려봅시다."
   ]
  },
  {
   "cell_type": "code",
   "execution_count": null,
   "metadata": {
    "colab": {
     "base_uri": "https://localhost:8080/",
     "height": 1000
    },
    "executionInfo": {
     "elapsed": 1181,
     "status": "ok",
     "timestamp": 1685600502980,
     "user": {
      "displayName": "박영민",
      "userId": "10806382730724378387"
     },
     "user_tz": -540
    },
    "id": "dvCY-kpOROoZ",
    "outputId": "d0b3ba26-42e2-4cc4-a421-4395826046c4"
   },
   "outputs": [],
   "source": [
    "# 2016\n",
    "draw_yearly_pie_chart(shipment_graph_df, '2016')"
   ]
  },
  {
   "cell_type": "code",
   "execution_count": null,
   "metadata": {
    "id": "pBid1QCQROoZ"
   },
   "outputs": [],
   "source": []
  },
  {
   "cell_type": "code",
   "execution_count": null,
   "metadata": {
    "colab": {
     "base_uri": "https://localhost:8080/",
     "height": 1000
    },
    "executionInfo": {
     "elapsed": 1872,
     "status": "ok",
     "timestamp": 1685600511100,
     "user": {
      "displayName": "박영민",
      "userId": "10806382730724378387"
     },
     "user_tz": -540
    },
    "id": "0lo92OIjROoh",
    "outputId": "75c71831-0696-4b73-ff14-586167e6789e"
   },
   "outputs": [],
   "source": [
    "# 2018\n",
    "draw_yearly_pie_chart(shipment_graph_df, '2018')"
   ]
  },
  {
   "cell_type": "code",
   "execution_count": null,
   "metadata": {
    "id": "jxi6JjinROoi"
   },
   "outputs": [],
   "source": []
  },
  {
   "cell_type": "code",
   "execution_count": null,
   "metadata": {
    "colab": {
     "base_uri": "https://localhost:8080/",
     "height": 1000
    },
    "executionInfo": {
     "elapsed": 1747,
     "status": "ok",
     "timestamp": 1685600523763,
     "user": {
      "displayName": "박영민",
      "userId": "10806382730724378387"
     },
     "user_tz": -540
    },
    "id": "pWVz7W1bROoi",
    "outputId": "3ecba3f1-ff15-4bbe-aade-31587ea279f8"
   },
   "outputs": [],
   "source": [
    "# 2022E\n",
    "draw_yearly_pie_chart(shipment_graph_df, '2022E')"
   ]
  },
  {
   "cell_type": "code",
   "execution_count": null,
   "metadata": {
    "id": "2_SgRXrCROoi"
   },
   "outputs": [],
   "source": []
  },
  {
   "cell_type": "markdown",
   "metadata": {
    "id": "m-Etq9AJROoi"
   },
   "source": [
    "  "
   ]
  },
  {
   "cell_type": "markdown",
   "metadata": {
    "id": "Y0Pcp5PxROoi"
   },
   "source": [
    "시계열로 년도에 따라 변화하는 것을 보기 위해 다른 그래프를 그려봅니다"
   ]
  },
  {
   "cell_type": "code",
   "execution_count": null,
   "metadata": {
    "colab": {
     "base_uri": "https://localhost:8080/",
     "height": 1000
    },
    "executionInfo": {
     "elapsed": 7116,
     "status": "ok",
     "timestamp": 1685600552250,
     "user": {
      "displayName": "박영민",
      "userId": "10806382730724378387"
     },
     "user_tz": -540
    },
    "id": "e9V2gbvpROoi",
    "outputId": "b732e18e-4806-4cf5-f4dc-fa6202190d52"
   },
   "outputs": [],
   "source": [
    "shipment_graph_df.plot(figsize=(14,7));"
   ]
  },
  {
   "cell_type": "code",
   "execution_count": null,
   "metadata": {
    "id": "IFk-2QOXROoi"
   },
   "outputs": [],
   "source": []
  },
  {
   "cell_type": "markdown",
   "metadata": {
    "id": "5MQXH8BGROoi"
   },
   "source": [
    "  "
   ]
  },
  {
   "cell_type": "markdown",
   "metadata": {
    "id": "qQw3yzZQROoi"
   },
   "source": [
    "우리가 원하는 그래프는 년도에 따른 shipment 그래프이므로, DataFrame의 모양을 반전하여야 합니다."
   ]
  },
  {
   "cell_type": "markdown",
   "metadata": {
    "id": "P46Eo7a8ROoj"
   },
   "source": [
    "```.T``` 코드를 통해 행렬을 뒤집을 수 있습니다. (Transpose)"
   ]
  },
  {
   "cell_type": "code",
   "execution_count": null,
   "metadata": {
    "colab": {
     "base_uri": "https://localhost:8080/",
     "height": 331
    },
    "executionInfo": {
     "elapsed": 2,
     "status": "ok",
     "timestamp": 1685600552738,
     "user": {
      "displayName": "박영민",
      "userId": "10806382730724378387"
     },
     "user_tz": -540
    },
    "id": "owjvC299ROoj",
    "outputId": "daa770f2-07d8-4a18-a3ea-3b25907038ff"
   },
   "outputs": [],
   "source": [
    "shipment_graph_df"
   ]
  },
  {
   "cell_type": "code",
   "execution_count": null,
   "metadata": {
    "colab": {
     "base_uri": "https://localhost:8080/",
     "height": 361
    },
    "executionInfo": {
     "elapsed": 548,
     "status": "ok",
     "timestamp": 1685600559318,
     "user": {
      "displayName": "박영민",
      "userId": "10806382730724378387"
     },
     "user_tz": -540
    },
    "id": "lR7fldd5ROoj",
    "outputId": "5d7c0a45-8b27-49c5-bb7d-1a9b0664587b"
   },
   "outputs": [],
   "source": [
    "shipment_graph_df_T = shipment_graph_df.T\n",
    "shipment_graph_df_T"
   ]
  },
  {
   "cell_type": "code",
   "execution_count": null,
   "metadata": {
    "id": "-zapVZPWROoj"
   },
   "outputs": [],
   "source": []
  },
  {
   "cell_type": "markdown",
   "metadata": {
    "id": "yUqBI27kROoj"
   },
   "source": [
    ".T를 통해 시계열이 인덱스축으로 오게 만든 shipment_graph_df_T로 다시 plot해봅시다"
   ]
  },
  {
   "cell_type": "code",
   "execution_count": null,
   "metadata": {
    "colab": {
     "base_uri": "https://localhost:8080/",
     "height": 1000
    },
    "executionInfo": {
     "elapsed": 8354,
     "status": "ok",
     "timestamp": 1685600585312,
     "user": {
      "displayName": "박영민",
      "userId": "10806382730724378387"
     },
     "user_tz": -540
    },
    "id": "gq4yYe0SROoj",
    "outputId": "ad90bee3-ecc8-4070-9d49-1784c4ba7cc8"
   },
   "outputs": [],
   "source": [
    "shipment_graph_df_T.plot(figsize=(14,7));\n",
    "plt.title('Yearly TV shipment')\n",
    "plt.show()"
   ]
  },
  {
   "cell_type": "markdown",
   "metadata": {
    "id": "qSNTxxtpROoj"
   },
   "source": [
    "  "
   ]
  },
  {
   "cell_type": "markdown",
   "metadata": {
    "id": "nzPxQfJaROoj"
   },
   "source": [
    "누적 값으로 Area Plot을 그려봅시다"
   ]
  },
  {
   "cell_type": "code",
   "execution_count": null,
   "metadata": {
    "id": "achH-PgBROoj",
    "outputId": "84053d35-e13e-498f-c241-70fd3e777956"
   },
   "outputs": [],
   "source": [
    "shipment_graph_df_T.plot(figsize=(14,7), kind='area');\n",
    "plt.title('Yearly TV shipment (Stacked Area)')\n",
    "plt.show()"
   ]
  },
  {
   "cell_type": "code",
   "execution_count": null,
   "metadata": {
    "id": "zLBOiODfROoj"
   },
   "outputs": [],
   "source": []
  },
  {
   "cell_type": "markdown",
   "metadata": {
    "id": "309C54P1ROok"
   },
   "source": [
    "  "
   ]
  },
  {
   "cell_type": "markdown",
   "metadata": {
    "id": "8HGO1KsOROok"
   },
   "source": [
    "## 데이터 분석 해보기"
   ]
  },
  {
   "cell_type": "markdown",
   "metadata": {
    "id": "OSFCjVNaROok"
   },
   "source": [
    "데이터 분석을 본격적으로 진행해보겠습니다.  \n",
    "데이터 분석에서는 기존의 데이터를 가공하여 새로운 관찰을 하고는 합니다.  \n",
    "각 지역의 시장 성장을 비교하기 위해 시계열 수치들을 첫 년도의 수치로 나누어봅니다."
   ]
  },
  {
   "cell_type": "code",
   "execution_count": null,
   "metadata": {
    "colab": {
     "base_uri": "https://localhost:8080/",
     "height": 361
    },
    "executionInfo": {
     "elapsed": 3,
     "status": "ok",
     "timestamp": 1685600661711,
     "user": {
      "displayName": "박영민",
      "userId": "10806382730724378387"
     },
     "user_tz": -540
    },
    "id": "Gb0LDoepROok",
    "outputId": "89bfabe2-4465-4584-ef69-2deaedabee79"
   },
   "outputs": [],
   "source": [
    "shipment_graph_df_T / shipment_graph_df_T.loc['2016']"
   ]
  },
  {
   "cell_type": "code",
   "execution_count": null,
   "metadata": {
    "id": "c9yvHMhlROok"
   },
   "outputs": [],
   "source": []
  },
  {
   "cell_type": "markdown",
   "metadata": {
    "id": "ROZ98ftiROok"
   },
   "source": [
    "첫 년도 (2016) 대비 선적 수치의 비율 (성장률)을 그려봅니다"
   ]
  },
  {
   "cell_type": "code",
   "execution_count": null,
   "metadata": {
    "colab": {
     "base_uri": "https://localhost:8080/",
     "height": 1000
    },
    "executionInfo": {
     "elapsed": 4574,
     "status": "ok",
     "timestamp": 1685600679415,
     "user": {
      "displayName": "박영민",
      "userId": "10806382730724378387"
     },
     "user_tz": -540
    },
    "id": "LpSjwiHKROol",
    "outputId": "27be70a1-ece0-4857-caf3-25e96fc1456b"
   },
   "outputs": [],
   "source": [
    "(shipment_graph_df_T / shipment_graph_df_T.loc['2016']).plot(figsize=(14,7));\n",
    "plt.title(\"TV Shipment Market Size to 2016's\")\n",
    "plt.show()"
   ]
  },
  {
   "cell_type": "code",
   "execution_count": null,
   "metadata": {
    "id": "DZlYPg1mROol"
   },
   "outputs": [],
   "source": []
  },
  {
   "cell_type": "markdown",
   "metadata": {
    "id": "TEaqaITLROol"
   },
   "source": [
    "2016년도의 수치를 1로 하여, 각 시장별로 어떠한 성장 그래프를 그려왔는지 볼 수 있습니다.  \n",
    "- 2021년까지 가장 큰 성장을 보여준 시장은 Japan 입니다.  (2016년 대비 +30% 이상)\n",
    "- 반면, 2021년까지 가장 크게 역성장한 시장은 China 입니다.  (2016년 대비 -20% 이하)"
   ]
  },
  {
   "cell_type": "markdown",
   "metadata": {
    "id": "Lue55YJZROol"
   },
   "source": [
    "  "
   ]
  },
  {
   "cell_type": "markdown",
   "metadata": {
    "id": "Y3zBSHcsROol"
   },
   "source": [
    "이번에는 각 년도별 Shipment의 변화량을 살펴보겠습니다.  \n",
    "```.diff()``` 함수로 row와 직전 row의 차이 값을 구할 수 있습니다."
   ]
  },
  {
   "cell_type": "code",
   "execution_count": null,
   "metadata": {
    "colab": {
     "base_uri": "https://localhost:8080/",
     "height": 361
    },
    "executionInfo": {
     "elapsed": 802,
     "status": "ok",
     "timestamp": 1685600723470,
     "user": {
      "displayName": "박영민",
      "userId": "10806382730724378387"
     },
     "user_tz": -540
    },
    "id": "TumZk5jPROol",
    "outputId": "e709c972-a6a8-4038-9af0-ca8392117851"
   },
   "outputs": [],
   "source": [
    "shipment_graph_df_T"
   ]
  },
  {
   "cell_type": "code",
   "execution_count": null,
   "metadata": {
    "colab": {
     "base_uri": "https://localhost:8080/",
     "height": 361
    },
    "executionInfo": {
     "elapsed": 514,
     "status": "ok",
     "timestamp": 1685600745218,
     "user": {
      "displayName": "박영민",
      "userId": "10806382730724378387"
     },
     "user_tz": -540
    },
    "id": "AG5HRRGIROol",
    "outputId": "c1ad6509-25eb-4d8d-bd04-fa577ecb88df"
   },
   "outputs": [],
   "source": [
    "shipment_graph_df_T.diff()"
   ]
  },
  {
   "cell_type": "markdown",
   "metadata": {
    "id": "7LYrwqxjROol"
   },
   "source": [
    "diff를 년도별 막대그래프로 그려봅시다"
   ]
  },
  {
   "cell_type": "code",
   "execution_count": null,
   "metadata": {
    "id": "a9b3szoeROom",
    "outputId": "6f1f4033-61a2-4c38-9387-3b030f353e12"
   },
   "outputs": [],
   "source": [
    "shipment_graph_df_T.diff().plot(figsize=(14,6), kind='bar');\n",
    "plt.title('yearly regional diff of shipment');"
   ]
  },
  {
   "cell_type": "code",
   "execution_count": null,
   "metadata": {
    "colab": {
     "base_uri": "https://localhost:8080/",
     "height": 1000
    },
    "executionInfo": {
     "elapsed": 4084,
     "status": "ok",
     "timestamp": 1685600799085,
     "user": {
      "displayName": "박영민",
      "userId": "10806382730724378387"
     },
     "user_tz": -540
    },
    "id": "wgE6p3K2ROom",
    "outputId": "89e55112-b405-4a3e-f4a0-db098df4a171"
   },
   "outputs": [],
   "source": [
    "shipment_graph_df_T.diff().plot(figsize=(14,14), kind='barh');"
   ]
  },
  {
   "cell_type": "code",
   "execution_count": null,
   "metadata": {
    "id": "O6c_ewnOROom"
   },
   "outputs": [],
   "source": []
  },
  {
   "cell_type": "markdown",
   "metadata": {
    "id": "JyBpBoW8ROom"
   },
   "source": [
    "- 2020년에 North America에서 엄청난 수요 폭증이 있었습니다.\n",
    "- 반면 North America 에서 2021E 및 2022E에 크게 수요가 감소할 것으로 예측됩니다.\n",
    "- 이는 어느정도 수요를 '땡겨 쓴'것으로 추측해볼 수 있습니다.\n",
    "- TV는 교체 후 최소 몇년 간은 사용하는 경향이 있을 것이기 때문입니다."
   ]
  },
  {
   "cell_type": "markdown",
   "metadata": {
    "id": "HfWWhlD5ROom"
   },
   "source": [
    "  "
   ]
  },
  {
   "cell_type": "markdown",
   "metadata": {
    "id": "WHw8zylEROom"
   },
   "source": [
    "마지막으로 ```.pct_change()``` 함수를 이용하여 절대 수치의 차이가 아닌, 직전 년도 대비 성장률을 보겠습니다"
   ]
  },
  {
   "cell_type": "code",
   "execution_count": null,
   "metadata": {
    "id": "4butM9dtROom",
    "outputId": "583ba2b4-715b-49dd-dd09-b78aa0304606"
   },
   "outputs": [],
   "source": [
    "shipment_graph_df_T"
   ]
  },
  {
   "cell_type": "code",
   "execution_count": null,
   "metadata": {
    "id": "icqo-mYTROom",
    "outputId": "634166de-d79d-4c29-ae72-60bbc1aaa888"
   },
   "outputs": [],
   "source": [
    "shipment_graph_df_T.pct_change()"
   ]
  },
  {
   "cell_type": "code",
   "execution_count": null,
   "metadata": {
    "id": "SW4qr2rgROom",
    "outputId": "1965498b-3e90-4129-d18c-c74a4706c8c8"
   },
   "outputs": [],
   "source": [
    "shipment_graph_df_T.pct_change().plot(figsize=(14,7), kind='bar');"
   ]
  },
  {
   "cell_type": "markdown",
   "metadata": {
    "id": "0zpf7dTmROom"
   },
   "source": [
    "차이의 절대 값이 아닌 비율 값으로 성장률로 본 경우, 성장률을 %로 비교할 수 있습니다."
   ]
  },
  {
   "cell_type": "code",
   "execution_count": null,
   "metadata": {
    "id": "bhRpDPbjROon"
   },
   "outputs": [],
   "source": []
  },
  {
   "cell_type": "markdown",
   "metadata": {
    "id": "v4GklyCwROon"
   },
   "source": [
    "  "
   ]
  }
 ],
 "metadata": {
  "colab": {
   "provenance": []
  },
  "kernelspec": {
   "display_name": "Python 3 (ipykernel)",
   "language": "python",
   "name": "python3"
  },
  "language_info": {
   "codemirror_mode": {
    "name": "ipython",
    "version": 3
   },
   "file_extension": ".py",
   "mimetype": "text/x-python",
   "name": "python",
   "nbconvert_exporter": "python",
   "pygments_lexer": "ipython3",
   "version": "3.9.16"
  },
  "toc": {
   "base_numbering": 1,
   "nav_menu": {},
   "number_sections": false,
   "sideBar": true,
   "skip_h1_title": false,
   "title_cell": "Table of Contents",
   "title_sidebar": "Contents",
   "toc_cell": false,
   "toc_position": {
    "height": "calc(100% - 180px)",
    "left": "10px",
    "top": "150px",
    "width": "276px"
   },
   "toc_section_display": true,
   "toc_window_display": true
  }
 },
 "nbformat": 4,
 "nbformat_minor": 1
}
